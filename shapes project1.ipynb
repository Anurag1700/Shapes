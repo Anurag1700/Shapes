{
 "cells": [
  {
   "cell_type": "code",
   "execution_count": null,
   "metadata": {},
   "outputs": [],
   "source": [
    "#Get the number of sides of the shape from the user and also get the dimensions of the shape and display the area:\n",
    "import math\n",
    "class Proj:\n",
    "    def __init__(self):\n",
    "        self.a = int(input('Enter the length of the side: '))\n",
    "\n",
    "    def Area(self):\n",
    "        if (shape[numSides] == 'Triangle'):\n",
    "            print('Area of Triangle with given side {} units is: {}'.format(self.a,(math.sqrt(3)/4)*(self.a**2)))\n",
    "        if(shape[numSides]=='Square'):\n",
    "                  print('Area of Square with given side {} units is: {}'.format(self.a,self.a**2))\n",
    "        if(shape[numSides] == 'Pentagon'):\n",
    "                  print('Area of Pentagon with given side {} units is: {}'.format(self.a,(0.25*(25+10*(5**0.5))**0.5)*(self.a**2)))\n",
    "        if(shape[numSides] == 'Hexagon'):\n",
    "            print('Area of Hexagon with given side {} units is: {}'.format(self.a,(1.5*(3**0.5))*(self.a**2)))\n",
    "        if(shape[numSides] == 'Heptagon'):\n",
    "            print('Area of Heptagon with given side {} units is: {}'.format(self.a,(7/4)*self.a*self.a*2.07))\n",
    "        if(shape[numSides] == 'Octagon'):\n",
    "            print('Area of Octagon with given side {} units is: {}'.format(self.a,(2+2*(2**0.5))*(self.a**2)))\n",
    "        if(shape[numSides] == 'Nonagon'):\n",
    "            print('Area of Nonagon with given side {} units is: {}'.format(self.a,(((9/4)*(self.a**2))*2.75)))\n",
    "        if(shape[numSides] == 'Decagon'):\n",
    "            print('Area of Decagon with given side {} units is: {}'.format(self.a,(2.5*(self.a**2)*(5+(2*(5**0.5)))**0.5)))\n",
    "\n",
    "shape = {3: 'Triangle', 4: 'Square', 5:'Pentagon', 6:'Hexagon', 7:'Heptagon', 8:'Octagon', 9:'Nonagon', 10:'Decagon'}\n",
    "repeat = 1\n",
    "while(repeat == 1):\n",
    "    numSides = int(input('Enter the number of sides: '))\n",
    "    if numSides >2 and numSides<=10:\n",
    "        p = Proj()\n",
    "        p.Area()\n",
    "        repeat = int(input('Enter 1 if you want to continue.'))\n",
    "    else:\n",
    "        print('number of sides should be from 3 to 10..!!')\n",
    "else:\n",
    "    print('Thank you!')\n",
    "    \n"
   ]
  },
  {
   "cell_type": "code",
   "execution_count": null,
   "metadata": {},
   "outputs": [],
   "source": []
  },
  {
   "cell_type": "code",
   "execution_count": null,
   "metadata": {},
   "outputs": [],
   "source": []
  }
 ],
 "metadata": {
  "kernelspec": {
   "display_name": "Python 3",
   "language": "python",
   "name": "python3"
  },
  "language_info": {
   "codemirror_mode": {
    "name": "ipython",
    "version": 3
   },
   "file_extension": ".py",
   "mimetype": "text/x-python",
   "name": "python",
   "nbconvert_exporter": "python",
   "pygments_lexer": "ipython3",
   "version": "3.7.3"
  }
 },
 "nbformat": 4,
 "nbformat_minor": 2
}
